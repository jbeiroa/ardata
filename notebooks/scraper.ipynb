{
 "cells": [
  {
   "cell_type": "code",
   "execution_count": 10,
   "id": "32256cc6-21c6-4dea-bae0-dfb861d3aa05",
   "metadata": {},
   "outputs": [],
   "source": [
    "import requests\n",
    "from bs4 import BeautifulSoup"
   ]
  },
  {
   "cell_type": "code",
   "execution_count": 11,
   "id": "01d64c32-3299-4816-bb6c-dc829504b1d2",
   "metadata": {},
   "outputs": [
    {
     "name": "stdout",
     "output_type": "stream",
     "text": [
      "Enlaces a archivos .csv o .xlsx encontrados:\n",
      "https://www.argentina.gob.ar/sites/default/files/2024/07/2023_base_usuaria_2_-_matricula_y_secciones.xlsx\n",
      "https://www.argentina.gob.ar/sites/default/files/2024/07/2023_base_usuaria_3_-_trayectoria_por_sexo.xlsx\n",
      "https://www.argentina.gob.ar/sites/default/files/2024/07/2023_base_usuaria_4_-_cargos.xlsx\n",
      "https://www.argentina.gob.ar/sites/default/files/2024/07/2023_base_usuaria_4_bis_-_cargos.xlsx\n",
      "https://www.argentina.gob.ar/sites/default/files/2024/07/2023_base_usuaria_5_-_caracteristicas2.xlsx\n",
      "https://www.argentina.gob.ar/sites/default/files/2024/07/2023_base_usuaria_6_-_poblacion.xlsx\n",
      "https://www.argentina.gob.ar/sites/default/files/2024/07/2023_base_usuaria_7_-_alumnos_por_edad.xlsx\n"
     ]
    }
   ],
   "source": [
    "# URL de la página web que deseas scrapear\n",
    "url = \"https://www.argentina.gob.ar/base-de-datos-por-escuela-2023\"\n",
    "\n",
    "# Realiza la solicitud HTTP a la página\n",
    "response = requests.get(url)\n",
    "\n",
    "# Verifica si la solicitud fue exitosa (código 200)\n",
    "if response.status_code == 200:\n",
    "    # Parsear el contenido HTML con BeautifulSoup\n",
    "    soup = BeautifulSoup(response.content, 'html.parser')\n",
    "    \n",
    "    # Buscar todos los enlaces (etiquetas <a>) que contienen href\n",
    "    links = soup.find_all('a', href=True)\n",
    "    \n",
    "    # Filtrar los enlaces que terminan en .csv o .xlsx\n",
    "    file_links = [link['href'] for link in links if link['href'].endswith('.csv') or link['href'].endswith('.xlsx')]\n",
    "    \n",
    "    # Mostrar los enlaces encontrados\n",
    "    if file_links:\n",
    "        print(\"Enlaces a archivos .csv o .xlsx encontrados:\")\n",
    "        for file_link in file_links:\n",
    "            print(file_link)\n",
    "    else:\n",
    "        print(\"No se encontraron archivos .csv o .xlsx en la página.\")\n",
    "else:\n",
    "    print(f\"Error al acceder a la página: {response.status_code}\")"
   ]
  },
  {
   "cell_type": "code",
   "execution_count": null,
   "id": "0dfadb95-20db-42fd-8a21-9ecf5a49e923",
   "metadata": {},
   "outputs": [],
   "source": []
  }
 ],
 "metadata": {
  "kernelspec": {
   "display_name": "Python 3 (ipykernel)",
   "language": "python",
   "name": "python3"
  },
  "language_info": {
   "codemirror_mode": {
    "name": "ipython",
    "version": 3
   },
   "file_extension": ".py",
   "mimetype": "text/x-python",
   "name": "python",
   "nbconvert_exporter": "python",
   "pygments_lexer": "ipython3",
   "version": "3.12.4"
  }
 },
 "nbformat": 4,
 "nbformat_minor": 5
}
